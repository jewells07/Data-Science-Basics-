{
 "cells": [
  {
   "cell_type": "code",
   "execution_count": 1,
   "metadata": {},
   "outputs": [],
   "source": [
    "import pandas as pd"
   ]
  },
  {
   "cell_type": "code",
   "execution_count": 2,
   "metadata": {},
   "outputs": [],
   "source": [
    "df = pd.read_csv('data.csv')"
   ]
  },
  {
   "cell_type": "code",
   "execution_count": 3,
   "metadata": {},
   "outputs": [
    {
     "data": {
      "text/html": [
       "<div>\n",
       "<style scoped>\n",
       "    .dataframe tbody tr th:only-of-type {\n",
       "        vertical-align: middle;\n",
       "    }\n",
       "\n",
       "    .dataframe tbody tr th {\n",
       "        vertical-align: top;\n",
       "    }\n",
       "\n",
       "    .dataframe thead th {\n",
       "        text-align: right;\n",
       "    }\n",
       "</style>\n",
       "<table border=\"1\" class=\"dataframe\">\n",
       "  <thead>\n",
       "    <tr style=\"text-align: right;\">\n",
       "      <th></th>\n",
       "      <th>Symbol</th>\n",
       "      <th>Open</th>\n",
       "      <th>High</th>\n",
       "      <th>Low</th>\n",
       "      <th>Last Traded Price</th>\n",
       "      <th>Change</th>\n",
       "      <th>%Change</th>\n",
       "      <th>Traded Volume(lacs)</th>\n",
       "      <th>Traded Value(crs)</th>\n",
       "      <th>52 Week High</th>\n",
       "      <th>52 Week Low</th>\n",
       "      <th>365 Days % Change</th>\n",
       "      <th>30 Days % Change</th>\n",
       "    </tr>\n",
       "  </thead>\n",
       "  <tbody>\n",
       "    <tr>\n",
       "      <th>0</th>\n",
       "      <td>NIFTY 50</td>\n",
       "      <td>12,906.45</td>\n",
       "      <td>12,916.75</td>\n",
       "      <td>12,805.20</td>\n",
       "      <td>12,821.05</td>\n",
       "      <td>-37.35</td>\n",
       "      <td>-0.29</td>\n",
       "      <td>2,393.54</td>\n",
       "      <td>15,101.53</td>\n",
       "      <td>13,145.85</td>\n",
       "      <td>7,511.10</td>\n",
       "      <td>6.51</td>\n",
       "      <td>8.95</td>\n",
       "    </tr>\n",
       "    <tr>\n",
       "      <th>1</th>\n",
       "      <td>GRASIM</td>\n",
       "      <td>850.20</td>\n",
       "      <td>864.75</td>\n",
       "      <td>847.05</td>\n",
       "      <td>863.80</td>\n",
       "      <td>20.70</td>\n",
       "      <td>2.46</td>\n",
       "      <td>18.68</td>\n",
       "      <td>160.37</td>\n",
       "      <td>873.80</td>\n",
       "      <td>385.05</td>\n",
       "      <td>9.20</td>\n",
       "      <td>10.74</td>\n",
       "    </tr>\n",
       "    <tr>\n",
       "      <th>2</th>\n",
       "      <td>M&amp;M</td>\n",
       "      <td>722.00</td>\n",
       "      <td>736.80</td>\n",
       "      <td>720.00</td>\n",
       "      <td>730.35</td>\n",
       "      <td>10.40</td>\n",
       "      <td>1.44</td>\n",
       "      <td>38.62</td>\n",
       "      <td>281.55</td>\n",
       "      <td>745.50</td>\n",
       "      <td>245.40</td>\n",
       "      <td>35.60</td>\n",
       "      <td>22.31</td>\n",
       "    </tr>\n",
       "    <tr>\n",
       "      <th>3</th>\n",
       "      <td>HCLTECH</td>\n",
       "      <td>824.10</td>\n",
       "      <td>838.15</td>\n",
       "      <td>819.60</td>\n",
       "      <td>835.35</td>\n",
       "      <td>10.65</td>\n",
       "      <td>1.29</td>\n",
       "      <td>41.93</td>\n",
       "      <td>347.81</td>\n",
       "      <td>910.70</td>\n",
       "      <td>375.25</td>\n",
       "      <td>-24.61</td>\n",
       "      <td>-1.47</td>\n",
       "    </tr>\n",
       "    <tr>\n",
       "      <th>4</th>\n",
       "      <td>BAJAJ-AUTO</td>\n",
       "      <td>3,053.00</td>\n",
       "      <td>3,118.00</td>\n",
       "      <td>3,053.00</td>\n",
       "      <td>3,083.30</td>\n",
       "      <td>32.05</td>\n",
       "      <td>1.05</td>\n",
       "      <td>6.60</td>\n",
       "      <td>203.85</td>\n",
       "      <td>3,315.15</td>\n",
       "      <td>1,788.65</td>\n",
       "      <td>-2.98</td>\n",
       "      <td>6.50</td>\n",
       "    </tr>\n",
       "  </tbody>\n",
       "</table>\n",
       "</div>"
      ],
      "text/plain": [
       "       Symbol       Open       High        Low Last Traded Price  Change  \\\n",
       "0    NIFTY 50  12,906.45  12,916.75  12,805.20         12,821.05  -37.35   \n",
       "1      GRASIM     850.20     864.75     847.05            863.80   20.70   \n",
       "2         M&M     722.00     736.80     720.00            730.35   10.40   \n",
       "3     HCLTECH     824.10     838.15     819.60            835.35   10.65   \n",
       "4  BAJAJ-AUTO   3,053.00   3,118.00   3,053.00          3,083.30   32.05   \n",
       "\n",
       "   %Change Traded Volume(lacs) Traded Value(crs) 52 Week High 52 Week Low  \\\n",
       "0    -0.29            2,393.54         15,101.53    13,145.85    7,511.10   \n",
       "1     2.46               18.68            160.37       873.80      385.05   \n",
       "2     1.44               38.62            281.55       745.50      245.40   \n",
       "3     1.29               41.93            347.81       910.70      375.25   \n",
       "4     1.05                6.60            203.85     3,315.15    1,788.65   \n",
       "\n",
       "   365 Days % Change  30 Days % Change  \n",
       "0               6.51              8.95  \n",
       "1               9.20             10.74  \n",
       "2              35.60             22.31  \n",
       "3             -24.61             -1.47  \n",
       "4              -2.98              6.50  "
      ]
     },
     "execution_count": 3,
     "metadata": {},
     "output_type": "execute_result"
    }
   ],
   "source": [
    "df.head()"
   ]
  },
  {
   "cell_type": "code",
   "execution_count": 4,
   "metadata": {},
   "outputs": [
    {
     "name": "stdout",
     "output_type": "stream",
     "text": [
      "0     12,805.20\n",
      "1        847.05\n",
      "2        720.00\n",
      "3        819.60\n",
      "4      3,053.00\n",
      "5      3,465.00\n",
      "6        849.65\n",
      "7        594.05\n",
      "8        395.65\n",
      "9      4,640.00\n",
      "10       347.20\n",
      "11       541.50\n",
      "12     1,308.15\n",
      "13     4,773.80\n",
      "14    23,700.00\n",
      "15       502.30\n",
      "16       414.15\n",
      "17       171.05\n",
      "18       460.10\n",
      "19     2,187.65\n",
      "20       123.35\n",
      "21     1,855.00\n",
      "22       728.40\n",
      "23       192.55\n",
      "24       101.60\n",
      "25        79.45\n",
      "26       659.00\n",
      "27     1,111.15\n",
      "28     8,671.00\n",
      "29     2,680.00\n",
      "30       336.00\n",
      "31     1,930.05\n",
      "32     4,792.45\n",
      "33        93.40\n",
      "34    17,280.00\n",
      "35     2,122.55\n",
      "36       221.00\n",
      "37       240.50\n",
      "38     2,976.10\n",
      "39        84.55\n",
      "40     1,391.30\n",
      "41       193.00\n",
      "42     2,117.15\n",
      "43       467.50\n",
      "44     3,490.00\n",
      "45     1,098.30\n",
      "46       846.70\n",
      "47       375.05\n",
      "48       835.00\n",
      "49     6,908.00\n",
      "50     2,526.00\n",
      "Name: Low, dtype: object\n"
     ]
    }
   ],
   "source": [
    "print(df['Low']) "
   ]
  },
  {
   "cell_type": "code",
   "execution_count": 5,
   "metadata": {},
   "outputs": [
    {
     "name": "stdout",
     "output_type": "stream",
     "text": [
      "object\n"
     ]
    }
   ],
   "source": [
    "print(df['Low'].dtype)"
   ]
  },
  {
   "cell_type": "code",
   "execution_count": 6,
   "metadata": {},
   "outputs": [
    {
     "name": "stdout",
     "output_type": "stream",
     "text": [
      "float64\n"
     ]
    }
   ],
   "source": [
    "print(df['Change'].dtype)"
   ]
  },
  {
   "cell_type": "code",
   "execution_count": 9,
   "metadata": {},
   "outputs": [
    {
     "name": "stdout",
     "output_type": "stream",
     "text": [
      "0       NIFTY 50\n",
      "1         GRASIM\n",
      "2            M&M\n",
      "3        HCLTECH\n",
      "4     BAJAJ-AUTO\n",
      "5       DIVISLAB\n",
      "6        SBILIFE\n",
      "7       AXISBANK\n",
      "8     ADANIPORTS\n",
      "9     BAJFINANCE\n",
      "10         WIPRO\n",
      "11     TATASTEEL\n",
      "12         TITAN\n",
      "13       DRREDDY\n",
      "14      SHREECEM\n",
      "15     SUNPHARMA\n",
      "16           UPL\n",
      "17    TATAMOTORS\n",
      "18    BHARTIARTL\n",
      "19          HDFC\n",
      "20     COALINDIA\n",
      "21     KOTAKBANK\n",
      "22         CIPLA\n",
      "23           ITC\n",
      "24          GAIL\n",
      "25          ONGC\n",
      "26      HDFCLIFE\n",
      "27            LT\n",
      "28    BAJAJFINSV\n",
      "29           TCS\n",
      "30      JSWSTEEL\n",
      "31      RELIANCE\n",
      "32    ULTRACEMCO\n",
      "33          NTPC\n",
      "34     NESTLEIND\n",
      "35    HINDUNILVR\n",
      "36      HINDALCO\n",
      "37          SBIN\n",
      "38    HEROMOTOCO\n",
      "39           IOC\n",
      "40      HDFCBANK\n",
      "41     POWERGRID\n",
      "42    ASIANPAINT\n",
      "43     ICICIBANK\n",
      "44     BRITANNIA\n",
      "45          INFY\n",
      "46         TECHM\n",
      "47          BPCL\n",
      "48    INDUSINDBK\n",
      "49        MARUTI\n",
      "50     EICHERMOT\n",
      "Name: Symbol, dtype: category\n",
      "Categories (51, object): ['ADANIPORTS', 'ASIANPAINT', 'AXISBANK', 'BAJAJ-AUTO', ..., 'TITAN', 'ULTRACEMCO', 'UPL', 'WIPRO']\n"
     ]
    }
   ],
   "source": [
    "print(df['Symbol'].astype('category'))"
   ]
  },
  {
   "cell_type": "code",
   "execution_count": null,
   "metadata": {},
   "outputs": [],
   "source": []
  }
 ],
 "metadata": {
  "kernelspec": {
   "display_name": "Python 3",
   "language": "python",
   "name": "python3"
  },
  "language_info": {
   "codemirror_mode": {
    "name": "ipython",
    "version": 3
   },
   "file_extension": ".py",
   "mimetype": "text/x-python",
   "name": "python",
   "nbconvert_exporter": "python",
   "pygments_lexer": "ipython3",
   "version": "3.8.6"
  }
 },
 "nbformat": 4,
 "nbformat_minor": 4
}
